{
 "cells": [
  {
   "cell_type": "code",
   "execution_count": 2,
   "metadata": {},
   "outputs": [],
   "source": [
    "import requests\n",
    "from bs4 import BeautifulSoup\n",
    "import pandas as pd\n",
    "import re\n",
    "import random"
   ]
  },
  {
   "cell_type": "code",
   "execution_count": 3,
   "metadata": {},
   "outputs": [],
   "source": [
    "url2= 'https://www.thebalance.com/oil-price-history-3306200'"
   ]
  },
  {
   "cell_type": "code",
   "execution_count": 4,
   "metadata": {},
   "outputs": [],
   "source": [
    "html2 = requests.get(url2).content\n",
    "soup2 = BeautifulSoup(html2, 'html.parser')\n"
   ]
  },
  {
   "cell_type": "code",
   "execution_count": 105,
   "metadata": {},
   "outputs": [],
   "source": [
    "names = soup2.find_all('table', {'class':'mntl-sc-block-table__table'})"
   ]
  },
  {
   "cell_type": "code",
   "execution_count": 60,
   "metadata": {
    "scrolled": true
   },
   "outputs": [],
   "source": [
    "year = pd.DataFrame([x.find(\"td\").text for x in soup2.find(\"div\", \n",
    "                                                    \"mntl-sc-block-table__table-wrapper\").find_all(\"tr\")[1:]]).rename(columns=({0:\"year\"}))\n",
    "                                                                                                                             \n",
    "                                                                                                                             \n",
    "                                                                                                                             \n",
    "                                                                                                                             \n",
    "                                                                                                                             "
   ]
  },
  {
   "cell_type": "code",
   "execution_count": 27,
   "metadata": {},
   "outputs": [
    {
     "data": {
      "text/plain": [
       "'\\xa0 $2.96'"
      ]
     },
     "execution_count": 27,
     "metadata": {},
     "output_type": "execute_result"
    }
   ],
   "source": [
    "soup2.find(\"div\", \"mntl-sc-block-table__table-wrapper\").find_all(\"tr\")[1].find_all(\"td\")[1].text"
   ]
  },
  {
   "cell_type": "code",
   "execution_count": 61,
   "metadata": {
    "scrolled": true
   },
   "outputs": [],
   "source": [
    "average = pd.DataFrame([x.find_all(\"td\")[1].text.replace(\"\\xa0\", \"\") for x in soup2.find(\"div\",\n",
    "                                                                  \"mntl-sc-block-table__table-wrapper\").find_all(\"tr\")[1:]]).rename(columns=({0:\"average\"}))"
   ]
  },
  {
   "cell_type": "code",
   "execution_count": 62,
   "metadata": {
    "scrolled": true
   },
   "outputs": [],
   "source": [
    "low = pd.DataFrame([x.find_all(\"td\")[2].text.replace(\"\\xa0\", \"\") for x in soup2.find(\"div\", \n",
    "                                                           \"mntl-sc-block-table__table-wrapper\").find_all(\"tr\")[1:]]).rename(columns=({0:\"low\"}))"
   ]
  },
  {
   "cell_type": "code",
   "execution_count": 63,
   "metadata": {
    "scrolled": true
   },
   "outputs": [],
   "source": [
    "high = pd.DataFrame([x.find_all(\"td\")[3].text.replace(\"\\xa0\"\n",
    "                                               , \"\") for x in soup2.find(\"div\", \n",
    "                                                                         \"mntl-sc-block-table__table-wrapper\").find_all(\"tr\")[1:]]).rename(columns=({0:\"high\"}))"
   ]
  },
  {
   "cell_type": "code",
   "execution_count": 64,
   "metadata": {
    "scrolled": true
   },
   "outputs": [],
   "source": [
    "cause = pd.DataFrame([x.find_all(\"td\")[4].text.replace(\"\\xa0'\", \"\") for x in soup2.find(\"div\", \n",
    "                                                           \"mntl-sc-block-table__table-wrapper\").find_all(\"tr\")[1:]]).rename(columns=({0:\"causes\"}))"
   ]
  },
  {
   "cell_type": "code",
   "execution_count": 69,
   "metadata": {},
   "outputs": [],
   "source": [
    "df = pd.concat([year, average, low, high, cause], axis = 1)"
   ]
  },
  {
   "cell_type": "code",
   "execution_count": 71,
   "metadata": {
    "scrolled": true
   },
   "outputs": [
    {
     "data": {
      "text/html": [
       "<div>\n",
       "<style scoped>\n",
       "    .dataframe tbody tr th:only-of-type {\n",
       "        vertical-align: middle;\n",
       "    }\n",
       "\n",
       "    .dataframe tbody tr th {\n",
       "        vertical-align: top;\n",
       "    }\n",
       "\n",
       "    .dataframe thead th {\n",
       "        text-align: right;\n",
       "    }\n",
       "</style>\n",
       "<table border=\"1\" class=\"dataframe\">\n",
       "  <thead>\n",
       "    <tr style=\"text-align: right;\">\n",
       "      <th></th>\n",
       "      <th>year</th>\n",
       "      <th>average</th>\n",
       "      <th>low</th>\n",
       "      <th>high</th>\n",
       "      <th>causes</th>\n",
       "    </tr>\n",
       "  </thead>\n",
       "  <tbody>\n",
       "    <tr>\n",
       "      <th>0</th>\n",
       "      <td>1970</td>\n",
       "      <td>$2.96</td>\n",
       "      <td>N.A.</td>\n",
       "      <td>N.A.</td>\n",
       "      <td>Regulated prices</td>\n",
       "    </tr>\n",
       "    <tr>\n",
       "      <th>1</th>\n",
       "      <td>1971</td>\n",
       "      <td>$3.17</td>\n",
       "      <td>N.A.</td>\n",
       "      <td>N.A.</td>\n",
       "      <td></td>\n",
       "    </tr>\n",
       "    <tr>\n",
       "      <th>2</th>\n",
       "      <td>1972</td>\n",
       "      <td>$3.22</td>\n",
       "      <td>N.A.</td>\n",
       "      <td>N.A.</td>\n",
       "      <td></td>\n",
       "    </tr>\n",
       "    <tr>\n",
       "      <th>3</th>\n",
       "      <td>1973</td>\n",
       "      <td>$4.08</td>\n",
       "      <td>N.A.</td>\n",
       "      <td>N.A.</td>\n",
       "      <td></td>\n",
       "    </tr>\n",
       "    <tr>\n",
       "      <th>4</th>\n",
       "      <td>1974</td>\n",
       "      <td>$12.52</td>\n",
       "      <td>$9.59</td>\n",
       "      <td>$13.06</td>\n",
       "      <td>OPEC oil embargo ended</td>\n",
       "    </tr>\n",
       "  </tbody>\n",
       "</table>\n",
       "</div>"
      ],
      "text/plain": [
       "   year average     low    high                  causes\n",
       "0  1970   $2.96    N.A.    N.A.        Regulated prices\n",
       "1  1971   $3.17    N.A.    N.A.                        \n",
       "2  1972   $3.22    N.A.    N.A.                        \n",
       "3  1973   $4.08    N.A.    N.A.                        \n",
       "4  1974  $12.52   $9.59  $13.06  OPEC oil embargo ended"
      ]
     },
     "execution_count": 71,
     "metadata": {},
     "output_type": "execute_result"
    }
   ],
   "source": [
    "df.head()"
   ]
  },
  {
   "cell_type": "code",
   "execution_count": 111,
   "metadata": {},
   "outputs": [
    {
     "data": {
      "text/plain": [
       "['        Year Average Low High Causes   1970 \\xa0 $2.96 \\xa0 \\xa0N.A. \\xa0 \\xa0N.A. Regulated prices   1971 \\xa0 $3.17 \\xa0 \\xa0N.A. \\xa0 \\xa0N.A. \\xa0   1972 \\xa0 $3.22 \\xa0 \\xa0N.A. \\xa0 \\xa0N.A. \\xa0   1973 \\xa0 $4.08 \\xa0 \\xa0N.A. \\xa0 \\xa0N.A. \\xa0   1974 $12.52 \\xa0 $9.59 $13.06\\xa0 OPEC oil embargo ended   1975 $13.95 $12.77 $15.04 Stagflation   1976 $13.48 $13.26 $13.71 Economy recovered   1977 $14.53 $14.11 $14.76 Fed raised and lowered rates   1978 $14.57 $14.40 $14.94 Fed raised and lowered rates   1979 $21.57 $15.50 $28.91 Iran-Iraq War, fed rate 20%   1980 $33.86 $30.75 $35.63 Iran oil embargo   1981 $37.10 $35.43 $39.00 Reagan cut taxes   1982 $33.57 $32.78 $35.54 Recession ends inflation   1983 $29.31 $27.95 $31.40 \\xa0   1984 $28.88 $28.02 $29.26 \\xa0   1985 $26.99 $26.21 $27.59 \\xa0   1986 $13.93 $10.91 $24.93 \\xa0   1987 $18.14 $16.45 $19.32 OPEC added to supply   1988 $14.60 $12.66 $15.93 \\xa0   1989 $18.07 $16.04 $20.05 \\xa0   1990 $21.73 $15.15 $32.88 Gulf War   1991 $18.73 $17.17 $22.30 SPR released oil   1992 $18.21 $16.00 $19.83 \\xa0   1993 $16.13 $12.56 $18.35 \\xa0   1994 $15.54 $12.90 $17.52 NAFTA allowed cheap oil from Mexico   1995 $17.14 $16.29 $18.56 \\xa0   1996 $20.62 $17.48 $23.22 \\xa0   1997 $18.49 $15.95 $23.02 \\xa0   1998 $12.07 $9.39 $14.33 \\xa0   1999 $17.27 $10.16 $24.35 Prices doubled   2000 $27.72 $24.29 $30.56 \\xa0   2001 $21.99 $15.95 $24.97 Recession and 9/11   2002 $23.71 $17.04 $27.14 Afghanistan War   2003 $27.73 $24.48 $32.23 \\xa0   2004 $35.89 $30.11 $45.36 \\xa0   2005 $48.89 $37.56 $58.79 Hurricane Katrina   2006 $59.05 $52.70 $67.99 Bernanke becomes Fed chair   2007 $67.19 $49.57 $85.53 Banking crisis   2008 $92.57 $35.59 $127.77 Financial crisis   2009 $59.04 $36.84 $74.40 Great Recession   2010 $75.83 $71.15 $85.59 \\xa0   2011 $102.58 $87.61 $113.02 \\xa0   2012 $101.09 $92.18 $108.54 Iran threatened Straits of Hormuz   2013 $98.12 $90.36 $104.16 \\xa0   2014 $89.63 $57.36 $100.26 The dollar rose 15%   2015 $46.34 $33.16 $58.89 U.S. shale oil increased   2016 $38.70 $26.66 $46.72 Dollar fell   2017 $48.98 $44.03 $57.44 OPEC cut oil supply to keep prices stable   2018 $61.34 $42.80 $67.79 \\xa0   2019 $57.94 $49.57 $65.42 \\xa0   2020 $26.10 $53.62 $16.35 As of April 2020. Pandemic reduced demand.   ']"
      ]
     },
     "execution_count": 111,
     "metadata": {},
     "output_type": "execute_result"
    }
   ],
   "source": [
    "results = [name.text.replace('\\n', ' ') for name in names]\n",
    "results\n",
    "\n",
    "\n",
    "#r2 =results[0].strip('\\n')\n"
   ]
  },
  {
   "cell_type": "code",
   "execution_count": 113,
   "metadata": {},
   "outputs": [
    {
     "data": {
      "text/plain": [
       "'Year Average Low High Causes   1970  $2.96  N.A.  N.A. Regulated prices   1971  $3.17  N.A.  N.A.    1972  $3.22  N.A.  N.A.    1973  $4.08  N.A.  N.A.    1974 $12.52  $9.59 $13.06 OPEC oil embargo ended   1975 $13.95 $12.77 $15.04 Stagflation   1976 $13.48 $13.26 $13.71 Economy recovered   1977 $14.53 $14.11 $14.76 Fed raised and lowered rates   1978 $14.57 $14.40 $14.94 Fed raised and lowered rates   1979 $21.57 $15.50 $28.91 Iran-Iraq War, fed rate 20%   1980 $33.86 $30.75 $35.63 Iran oil embargo   1981 $37.10 $35.43 $39.00 Reagan cut taxes   1982 $33.57 $32.78 $35.54 Recession ends inflation   1983 $29.31 $27.95 $31.40    1984 $28.88 $28.02 $29.26    1985 $26.99 $26.21 $27.59    1986 $13.93 $10.91 $24.93    1987 $18.14 $16.45 $19.32 OPEC added to supply   1988 $14.60 $12.66 $15.93    1989 $18.07 $16.04 $20.05    1990 $21.73 $15.15 $32.88 Gulf War   1991 $18.73 $17.17 $22.30 SPR released oil   1992 $18.21 $16.00 $19.83    1993 $16.13 $12.56 $18.35    1994 $15.54 $12.90 $17.52 NAFTA allowed cheap oil from Mexico   1995 $17.14 $16.29 $18.56    1996 $20.62 $17.48 $23.22    1997 $18.49 $15.95 $23.02    1998 $12.07 $9.39 $14.33    1999 $17.27 $10.16 $24.35 Prices doubled   2000 $27.72 $24.29 $30.56    2001 $21.99 $15.95 $24.97 Recession and 9/11   2002 $23.71 $17.04 $27.14 Afghanistan War   2003 $27.73 $24.48 $32.23    2004 $35.89 $30.11 $45.36    2005 $48.89 $37.56 $58.79 Hurricane Katrina   2006 $59.05 $52.70 $67.99 Bernanke becomes Fed chair   2007 $67.19 $49.57 $85.53 Banking crisis   2008 $92.57 $35.59 $127.77 Financial crisis   2009 $59.04 $36.84 $74.40 Great Recession   2010 $75.83 $71.15 $85.59    2011 $102.58 $87.61 $113.02    2012 $101.09 $92.18 $108.54 Iran threatened Straits of Hormuz   2013 $98.12 $90.36 $104.16    2014 $89.63 $57.36 $100.26 The dollar rose 15%   2015 $46.34 $33.16 $58.89 U.S. shale oil increased   2016 $38.70 $26.66 $46.72 Dollar fell   2017 $48.98 $44.03 $57.44 OPEC cut oil supply to keep prices stable   2018 $61.34 $42.80 $67.79    2019 $57.94 $49.57 $65.42    2020 $26.10 $53.62 $16.35 As of April 2020. Pandemic reduced demand.'"
      ]
     },
     "execution_count": 113,
     "metadata": {},
     "output_type": "execute_result"
    }
   ],
   "source": [
    "results1 = results[0].strip().replace('\\xa0','')\n",
    "results1"
   ]
  },
  {
   "cell_type": "code",
   "execution_count": 122,
   "metadata": {},
   "outputs": [
    {
     "data": {
      "text/plain": [
       "['Year Average Low High Causes   1970  $2.96  N.A.  N.A. Regulated prices   1971  $3.17  N.A.  N.A.    1972  $3.22  N.A.  N.A.    1973  $4.08  N.A.  N.A.    1974 $12.52  $9.59 $13.06 OPEC oil embargo ended   1975 $13.95 $12.77 $15.04 Stagflation   1976 $13.48 $13.26 $13.71 Economy recovered   1977 $14.53 $14.11 $14.76 Fed raised and lowered rates   1978 $14.57 $14.40 $14.94 Fed raised and lowered rates   1979 $21.57 $15.50 $28.91 Iran-Iraq War, fed rate 20%   1980 $33.86 $30.75 $35.63 Iran oil embargo   1981 $37.10 $35.43 $39.00 Reagan cut taxes   1982 $33.57 $32.78 $35.54 Recession ends inflation   1983 $29.31 $27.95 $31.40    1984 $28.88 $28.02 $29.26    1985 $26.99 $26.21 $27.59    1986 $13.93 $10.91 $24.93    1987 $18.14 $16.45 $19.32 OPEC added to supply   1988 $14.60 $12.66 $15.93    1989 $18.07 $16.04 $20.05    1990 $21.73 $15.15 $32.88 Gulf War   1991 $18.73 $17.17 $22.30 SPR released oil   1992 $18.21 $16.00 $19.83    1993 $16.13 $12.56 $18.35    1994 $15.54 $12.90 $17.52 NAFTA allowed cheap oil from Mexico   1995 $17.14 $16.29 $18.56    1996 $20.62 $17.48 $23.22    1997 $18.49 $15.95 $23.02    1998 $12.07 $9.39 $14.33    1999 $17.27 $10.16 $24.35 Prices doubled   2000 $27.72 $24.29 $30.56    2001 $21.99 $15.95 $24.97 Recession and 9/11   2002 $23.71 $17.04 $27.14 Afghanistan War   2003 $27.73 $24.48 $32.23    2004 $35.89 $30.11 $45.36    2005 $48.89 $37.56 $58.79 Hurricane Katrina   2006 $59.05 $52.70 $67.99 Bernanke becomes Fed chair   2007 $67.19 $49.57 $85.53 Banking crisis   2008 $92.57 $35.59 $127.77 Financial crisis   2009 $59.04 $36.84 $74.40 Great Recession   2010 $75.83 $71.15 $85.59    2011 $102.58 $87.61 $113.02    2012 $101.09 $92.18 $108.54 Iran threatened Straits of Hormuz   2013 $98.12 $90.36 $104.16    2014 $89.63 $57.36 $100.26 The dollar rose 15%   2015 $46.34 $33.16 $58.89 U.S. shale oil increased   2016 $38.70 $26.66 $46.72 Dollar fell   2017 $48.98 $44.03 $57.44 OPEC cut oil supply to keep prices stable   2018 $61.34 $42.80 $67.79    2019 $57.94 $49.57 $65.42    2020 $26.10 $53.62 $16.35 As of April 2020. Pandemic reduced demand.']"
      ]
     },
     "execution_count": 122,
     "metadata": {},
     "output_type": "execute_result"
    }
   ],
   "source": [
    "r2 = results1.split(\"\\d\\d\\d\\d\")\n",
    "r2"
   ]
  },
  {
   "cell_type": "code",
   "execution_count": 123,
   "metadata": {},
   "outputs": [
    {
     "data": {
      "text/html": [
       "<div>\n",
       "<style scoped>\n",
       "    .dataframe tbody tr th:only-of-type {\n",
       "        vertical-align: middle;\n",
       "    }\n",
       "\n",
       "    .dataframe tbody tr th {\n",
       "        vertical-align: top;\n",
       "    }\n",
       "\n",
       "    .dataframe thead th {\n",
       "        text-align: right;\n",
       "    }\n",
       "</style>\n",
       "<table border=\"1\" class=\"dataframe\">\n",
       "  <thead>\n",
       "    <tr style=\"text-align: right;\">\n",
       "      <th></th>\n",
       "      <th>0</th>\n",
       "    </tr>\n",
       "  </thead>\n",
       "  <tbody>\n",
       "    <tr>\n",
       "      <th>0</th>\n",
       "      <td>Year Average Low High Causes   1970  $2.96  N....</td>\n",
       "    </tr>\n",
       "  </tbody>\n",
       "</table>\n",
       "</div>"
      ],
      "text/plain": [
       "                                                   0\n",
       "0  Year Average Low High Causes   1970  $2.96  N...."
      ]
     },
     "execution_count": 123,
     "metadata": {},
     "output_type": "execute_result"
    }
   ],
   "source": [
    "pd.DataFrame(r2)"
   ]
  },
  {
   "cell_type": "code",
   "execution_count": null,
   "metadata": {},
   "outputs": [],
   "source": []
  }
 ],
 "metadata": {
  "kernelspec": {
   "display_name": "Python 3",
   "language": "python",
   "name": "python3"
  },
  "language_info": {
   "codemirror_mode": {
    "name": "ipython",
    "version": 3
   },
   "file_extension": ".py",
   "mimetype": "text/x-python",
   "name": "python",
   "nbconvert_exporter": "python",
   "pygments_lexer": "ipython3",
   "version": "3.8.3"
  }
 },
 "nbformat": 4,
 "nbformat_minor": 4
}
