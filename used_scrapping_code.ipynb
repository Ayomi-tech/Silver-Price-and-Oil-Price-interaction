{
 "cells": [
  {
   "cell_type": "markdown",
   "metadata": {},
   "source": [
    "### In this lab we need to import the following libs:"
   ]
  },
  {
   "cell_type": "code",
   "execution_count": 2,
   "metadata": {},
   "outputs": [],
   "source": [
    "import pandas as pd\n",
    "import matplotlib.pyplot as plt\n",
    "import warnings\n",
    "warnings.filterwarnings('ignore')\n",
    "import html5lib   # this lib helps to generate the table directly from the URL"
   ]
  },
  {
   "cell_type": "code",
   "execution_count": 3,
   "metadata": {},
   "outputs": [],
   "source": [
    "url= 'https://www.eia.gov/dnav/pet/hist/rwtcD.htm'"
   ]
  },
  {
   "cell_type": "code",
   "execution_count": 4,
   "metadata": {},
   "outputs": [
    {
     "data": {
      "text/html": [
       "<div>\n",
       "<style scoped>\n",
       "    .dataframe tbody tr th:only-of-type {\n",
       "        vertical-align: middle;\n",
       "    }\n",
       "\n",
       "    .dataframe tbody tr th {\n",
       "        vertical-align: top;\n",
       "    }\n",
       "\n",
       "    .dataframe thead th {\n",
       "        text-align: right;\n",
       "    }\n",
       "</style>\n",
       "<table border=\"1\" class=\"dataframe\">\n",
       "  <thead>\n",
       "    <tr style=\"text-align: right;\">\n",
       "      <th></th>\n",
       "      <th>Week Of</th>\n",
       "      <th>Mon</th>\n",
       "      <th>Tue</th>\n",
       "      <th>Wed</th>\n",
       "      <th>Thu</th>\n",
       "      <th>Fri</th>\n",
       "    </tr>\n",
       "  </thead>\n",
       "  <tbody>\n",
       "    <tr>\n",
       "      <th>0</th>\n",
       "      <td>1985 Dec-30 to Jan- 3</td>\n",
       "      <td>NaN</td>\n",
       "      <td>NaN</td>\n",
       "      <td>NaN</td>\n",
       "      <td>25.56</td>\n",
       "      <td>26.00</td>\n",
       "    </tr>\n",
       "    <tr>\n",
       "      <th>1</th>\n",
       "      <td>1986 Jan- 6 to Jan-10</td>\n",
       "      <td>26.53</td>\n",
       "      <td>25.85</td>\n",
       "      <td>25.87</td>\n",
       "      <td>26.03</td>\n",
       "      <td>25.65</td>\n",
       "    </tr>\n",
       "    <tr>\n",
       "      <th>2</th>\n",
       "      <td>1986 Jan-13 to Jan-17</td>\n",
       "      <td>25.08</td>\n",
       "      <td>24.97</td>\n",
       "      <td>25.18</td>\n",
       "      <td>23.98</td>\n",
       "      <td>23.63</td>\n",
       "    </tr>\n",
       "    <tr>\n",
       "      <th>3</th>\n",
       "      <td>1986 Jan-20 to Jan-24</td>\n",
       "      <td>21.33</td>\n",
       "      <td>20.61</td>\n",
       "      <td>20.25</td>\n",
       "      <td>19.93</td>\n",
       "      <td>19.45</td>\n",
       "    </tr>\n",
       "    <tr>\n",
       "      <th>4</th>\n",
       "      <td>1986 Jan-27 to Jan-31</td>\n",
       "      <td>20.87</td>\n",
       "      <td>19.45</td>\n",
       "      <td>19.61</td>\n",
       "      <td>19.58</td>\n",
       "      <td>18.95</td>\n",
       "    </tr>\n",
       "    <tr>\n",
       "      <th>...</th>\n",
       "      <td>...</td>\n",
       "      <td>...</td>\n",
       "      <td>...</td>\n",
       "      <td>...</td>\n",
       "      <td>...</td>\n",
       "      <td>...</td>\n",
       "    </tr>\n",
       "    <tr>\n",
       "      <th>2174</th>\n",
       "      <td>2020 Sep-21 to Sep-25</td>\n",
       "      <td>39.26</td>\n",
       "      <td>39.55</td>\n",
       "      <td>39.92</td>\n",
       "      <td>40.11</td>\n",
       "      <td>40.06</td>\n",
       "    </tr>\n",
       "    <tr>\n",
       "      <th>2175</th>\n",
       "      <td>2020 Sep-28 to Oct- 2</td>\n",
       "      <td>40.47</td>\n",
       "      <td>39.03</td>\n",
       "      <td>40.05</td>\n",
       "      <td>38.51</td>\n",
       "      <td>36.90</td>\n",
       "    </tr>\n",
       "    <tr>\n",
       "      <th>2176</th>\n",
       "      <td>2020 Oct- 5 to Oct- 9</td>\n",
       "      <td>39.12</td>\n",
       "      <td>40.52</td>\n",
       "      <td>39.82</td>\n",
       "      <td>41.04</td>\n",
       "      <td>40.44</td>\n",
       "    </tr>\n",
       "    <tr>\n",
       "      <th>2177</th>\n",
       "      <td>NaN</td>\n",
       "      <td>NaN</td>\n",
       "      <td>NaN</td>\n",
       "      <td>NaN</td>\n",
       "      <td>NaN</td>\n",
       "      <td>NaN</td>\n",
       "    </tr>\n",
       "    <tr>\n",
       "      <th>2178</th>\n",
       "      <td>2020 Oct-12 to Oct-16</td>\n",
       "      <td>39.22</td>\n",
       "      <td>40.03</td>\n",
       "      <td>NaN</td>\n",
       "      <td>NaN</td>\n",
       "      <td>NaN</td>\n",
       "    </tr>\n",
       "  </tbody>\n",
       "</table>\n",
       "<p>2179 rows × 6 columns</p>\n",
       "</div>"
      ],
      "text/plain": [
       "                    Week Of    Mon    Tue    Wed    Thu    Fri\n",
       "0     1985 Dec-30 to Jan- 3    NaN    NaN    NaN  25.56  26.00\n",
       "1     1986 Jan- 6 to Jan-10  26.53  25.85  25.87  26.03  25.65\n",
       "2     1986 Jan-13 to Jan-17  25.08  24.97  25.18  23.98  23.63\n",
       "3     1986 Jan-20 to Jan-24  21.33  20.61  20.25  19.93  19.45\n",
       "4     1986 Jan-27 to Jan-31  20.87  19.45  19.61  19.58  18.95\n",
       "...                     ...    ...    ...    ...    ...    ...\n",
       "2174  2020 Sep-21 to Sep-25  39.26  39.55  39.92  40.11  40.06\n",
       "2175  2020 Sep-28 to Oct- 2  40.47  39.03  40.05  38.51  36.90\n",
       "2176  2020 Oct- 5 to Oct- 9  39.12  40.52  39.82  41.04  40.44\n",
       "2177                    NaN    NaN    NaN    NaN    NaN    NaN\n",
       "2178  2020 Oct-12 to Oct-16  39.22  40.03    NaN    NaN    NaN\n",
       "\n",
       "[2179 rows x 6 columns]"
      ]
     },
     "execution_count": 4,
     "metadata": {},
     "output_type": "execute_result"
    }
   ],
   "source": [
    "#We use the read_html method of the Pandas library to read the HTML tables.this will return a list of df.\n",
    "#skiprows skip anyrow we wish, here we set it to 0 because we need all of it(we dont need it here).\n",
    "#header makes the heads of the columns\n",
    "# we need to add [0] if need to select first item of returened list, because read_html return list of DataFrames:\n",
    "\n",
    " \n",
    "df = pd.read_html(url, header=0)[5]\n",
    "df"
   ]
  },
  {
   "cell_type": "code",
   "execution_count": 5,
   "metadata": {},
   "outputs": [
    {
     "data": {
      "text/plain": [
       "Week Of    363\n",
       "Mon        518\n",
       "Tue        379\n",
       "Wed        381\n",
       "Thu        408\n",
       "Fri        442\n",
       "dtype: int64"
      ]
     },
     "execution_count": 5,
     "metadata": {},
     "output_type": "execute_result"
    }
   ],
   "source": [
    "# check for Nan(missing values)\n",
    "df.isnull().sum()"
   ]
  },
  {
   "cell_type": "code",
   "execution_count": 6,
   "metadata": {},
   "outputs": [
    {
     "data": {
      "text/html": [
       "<div>\n",
       "<style scoped>\n",
       "    .dataframe tbody tr th:only-of-type {\n",
       "        vertical-align: middle;\n",
       "    }\n",
       "\n",
       "    .dataframe tbody tr th {\n",
       "        vertical-align: top;\n",
       "    }\n",
       "\n",
       "    .dataframe thead th {\n",
       "        text-align: right;\n",
       "    }\n",
       "</style>\n",
       "<table border=\"1\" class=\"dataframe\">\n",
       "  <thead>\n",
       "    <tr style=\"text-align: right;\">\n",
       "      <th></th>\n",
       "      <th>Week Of</th>\n",
       "      <th>Oil_Price</th>\n",
       "      <th>Tue</th>\n",
       "      <th>Wed</th>\n",
       "      <th>Thu</th>\n",
       "      <th>Fri</th>\n",
       "    </tr>\n",
       "  </thead>\n",
       "  <tbody>\n",
       "    <tr>\n",
       "      <th>0</th>\n",
       "      <td>1985 Dec-30 to Jan- 3</td>\n",
       "      <td>NaN</td>\n",
       "      <td>NaN</td>\n",
       "      <td>NaN</td>\n",
       "      <td>25.56</td>\n",
       "      <td>26.00</td>\n",
       "    </tr>\n",
       "    <tr>\n",
       "      <th>1</th>\n",
       "      <td>1986 Jan- 6 to Jan-10</td>\n",
       "      <td>26.53</td>\n",
       "      <td>25.85</td>\n",
       "      <td>25.87</td>\n",
       "      <td>26.03</td>\n",
       "      <td>25.65</td>\n",
       "    </tr>\n",
       "    <tr>\n",
       "      <th>2</th>\n",
       "      <td>1986 Jan-13 to Jan-17</td>\n",
       "      <td>25.08</td>\n",
       "      <td>24.97</td>\n",
       "      <td>25.18</td>\n",
       "      <td>23.98</td>\n",
       "      <td>23.63</td>\n",
       "    </tr>\n",
       "    <tr>\n",
       "      <th>3</th>\n",
       "      <td>1986 Jan-20 to Jan-24</td>\n",
       "      <td>21.33</td>\n",
       "      <td>20.61</td>\n",
       "      <td>20.25</td>\n",
       "      <td>19.93</td>\n",
       "      <td>19.45</td>\n",
       "    </tr>\n",
       "    <tr>\n",
       "      <th>4</th>\n",
       "      <td>1986 Jan-27 to Jan-31</td>\n",
       "      <td>20.87</td>\n",
       "      <td>19.45</td>\n",
       "      <td>19.61</td>\n",
       "      <td>19.58</td>\n",
       "      <td>18.95</td>\n",
       "    </tr>\n",
       "    <tr>\n",
       "      <th>...</th>\n",
       "      <td>...</td>\n",
       "      <td>...</td>\n",
       "      <td>...</td>\n",
       "      <td>...</td>\n",
       "      <td>...</td>\n",
       "      <td>...</td>\n",
       "    </tr>\n",
       "    <tr>\n",
       "      <th>2174</th>\n",
       "      <td>2020 Sep-21 to Sep-25</td>\n",
       "      <td>39.26</td>\n",
       "      <td>39.55</td>\n",
       "      <td>39.92</td>\n",
       "      <td>40.11</td>\n",
       "      <td>40.06</td>\n",
       "    </tr>\n",
       "    <tr>\n",
       "      <th>2175</th>\n",
       "      <td>2020 Sep-28 to Oct- 2</td>\n",
       "      <td>40.47</td>\n",
       "      <td>39.03</td>\n",
       "      <td>40.05</td>\n",
       "      <td>38.51</td>\n",
       "      <td>36.90</td>\n",
       "    </tr>\n",
       "    <tr>\n",
       "      <th>2176</th>\n",
       "      <td>2020 Oct- 5 to Oct- 9</td>\n",
       "      <td>39.12</td>\n",
       "      <td>40.52</td>\n",
       "      <td>39.82</td>\n",
       "      <td>41.04</td>\n",
       "      <td>40.44</td>\n",
       "    </tr>\n",
       "    <tr>\n",
       "      <th>2177</th>\n",
       "      <td>NaN</td>\n",
       "      <td>NaN</td>\n",
       "      <td>NaN</td>\n",
       "      <td>NaN</td>\n",
       "      <td>NaN</td>\n",
       "      <td>NaN</td>\n",
       "    </tr>\n",
       "    <tr>\n",
       "      <th>2178</th>\n",
       "      <td>2020 Oct-12 to Oct-16</td>\n",
       "      <td>39.22</td>\n",
       "      <td>40.03</td>\n",
       "      <td>NaN</td>\n",
       "      <td>NaN</td>\n",
       "      <td>NaN</td>\n",
       "    </tr>\n",
       "  </tbody>\n",
       "</table>\n",
       "<p>2179 rows × 6 columns</p>\n",
       "</div>"
      ],
      "text/plain": [
       "                    Week Of  Oil_Price    Tue    Wed    Thu    Fri\n",
       "0     1985 Dec-30 to Jan- 3        NaN    NaN    NaN  25.56  26.00\n",
       "1     1986 Jan- 6 to Jan-10      26.53  25.85  25.87  26.03  25.65\n",
       "2     1986 Jan-13 to Jan-17      25.08  24.97  25.18  23.98  23.63\n",
       "3     1986 Jan-20 to Jan-24      21.33  20.61  20.25  19.93  19.45\n",
       "4     1986 Jan-27 to Jan-31      20.87  19.45  19.61  19.58  18.95\n",
       "...                     ...        ...    ...    ...    ...    ...\n",
       "2174  2020 Sep-21 to Sep-25      39.26  39.55  39.92  40.11  40.06\n",
       "2175  2020 Sep-28 to Oct- 2      40.47  39.03  40.05  38.51  36.90\n",
       "2176  2020 Oct- 5 to Oct- 9      39.12  40.52  39.82  41.04  40.44\n",
       "2177                    NaN        NaN    NaN    NaN    NaN    NaN\n",
       "2178  2020 Oct-12 to Oct-16      39.22  40.03    NaN    NaN    NaN\n",
       "\n",
       "[2179 rows x 6 columns]"
      ]
     },
     "execution_count": 6,
     "metadata": {},
     "output_type": "execute_result"
    }
   ],
   "source": [
    "df = df.rename(columns={'Mon':'Oil_Price'})\n",
    "df"
   ]
  },
  {
   "cell_type": "code",
   "execution_count": 7,
   "metadata": {},
   "outputs": [
    {
     "name": "stdout",
     "output_type": "stream",
     "text": [
      "43.7411258278146\n"
     ]
    }
   ],
   "source": [
    "# mean_oil_price = subset['Oil_Price'].mean()\n",
    "print(df['Oil_Price'].mean())"
   ]
  },
  {
   "cell_type": "code",
   "execution_count": 8,
   "metadata": {},
   "outputs": [],
   "source": [
    "# Replacing Nan(missing values) with the mean of the column(Oil_Price)\n",
    "\n",
    "# df['Oil_Price'].fillna(43.74, inplace=True)"
   ]
  },
  {
   "cell_type": "code",
   "execution_count": 9,
   "metadata": {},
   "outputs": [
    {
     "data": {
      "text/plain": [
       "Week Of      363\n",
       "Oil_Price    518\n",
       "Tue          379\n",
       "Wed          381\n",
       "Thu          408\n",
       "Fri          442\n",
       "dtype: int64"
      ]
     },
     "execution_count": 9,
     "metadata": {},
     "output_type": "execute_result"
    }
   ],
   "source": [
    "# Checking if Nan is replaced with our mean \n",
    "\n",
    "df.isnull().sum()"
   ]
  },
  {
   "cell_type": "code",
   "execution_count": 10,
   "metadata": {},
   "outputs": [
    {
     "data": {
      "text/plain": [
       "Index(['Week Of', 'Oil_Price', 'Tue', 'Wed', 'Thu', 'Fri'], dtype='object')"
      ]
     },
     "execution_count": 10,
     "metadata": {},
     "output_type": "execute_result"
    }
   ],
   "source": [
    "# checking the columns names\n",
    "df.columns"
   ]
  },
  {
   "cell_type": "code",
   "execution_count": 11,
   "metadata": {},
   "outputs": [
    {
     "data": {
      "text/plain": [
       "0         NaN\n",
       "1       26.53\n",
       "2       25.08\n",
       "3       21.33\n",
       "4       20.87\n",
       "        ...  \n",
       "2174    39.26\n",
       "2175    40.47\n",
       "2176    39.12\n",
       "2177      NaN\n",
       "2178    39.22\n",
       "Name: Oil_Price, Length: 2179, dtype: float64"
      ]
     },
     "execution_count": 11,
     "metadata": {},
     "output_type": "execute_result"
    }
   ],
   "source": [
    "# subsetting the column 'Oil_Price'. Assigned 'df' to a new variable 'subset'\n",
    "subset = df.loc[:, 'Oil_Price']\n",
    "subset"
   ]
  },
  {
   "cell_type": "code",
   "execution_count": 13,
   "metadata": {},
   "outputs": [],
   "source": [
    "subset.to_csv('cleaned_oil_data.csv', index=False)"
   ]
  },
  {
   "cell_type": "markdown",
   "metadata": {},
   "source": [
    "### Importing Silver csv file that was extracted from a webpage"
   ]
  },
  {
   "cell_type": "code",
   "execution_count": null,
   "metadata": {
    "scrolled": true
   },
   "outputs": [],
   "source": [
    "silver = pd.read_csv('gld_price_data.csv')\n",
    "silver"
   ]
  },
  {
   "cell_type": "code",
   "execution_count": null,
   "metadata": {
    "scrolled": true
   },
   "outputs": [],
   "source": [
    "# extracting column('Date' & 'SLV')\n",
    "silver_1 = silver.loc[:, ['Date', 'SLV']]\n",
    "silver_1"
   ]
  },
  {
   "cell_type": "code",
   "execution_count": null,
   "metadata": {},
   "outputs": [],
   "source": [
    "# to match the size of both DataFrames, we extract the desired number of rows(2179)\n",
    "silver_2 = silver_1.loc[0:2178]\n",
    "silver_2"
   ]
  },
  {
   "cell_type": "code",
   "execution_count": null,
   "metadata": {},
   "outputs": [],
   "source": [
    "silver_2['Date']= pd.to_datetime(silver_2['Date'])\n",
    "silver_2"
   ]
  },
  {
   "cell_type": "code",
   "execution_count": null,
   "metadata": {},
   "outputs": [],
   "source": [
    "#  In the case of extracting just the year from the column('Date')\n",
    "# silver_2['Year'] = silver_2['Date'].dt.year\n",
    "# silver_2"
   ]
  },
  {
   "cell_type": "code",
   "execution_count": null,
   "metadata": {},
   "outputs": [],
   "source": []
  },
  {
   "cell_type": "code",
   "execution_count": null,
   "metadata": {},
   "outputs": [],
   "source": [
    "semi_final = pd.concat([silver_2, subset], axis=1)\n",
    "semi_final"
   ]
  },
  {
   "cell_type": "code",
   "execution_count": null,
   "metadata": {},
   "outputs": [],
   "source": [
    "#  Rounding the column('SLV', 'Oil_Price') to 2 decimal place\n",
    "final = semi_final.round({'SLV':2, 'Oil_Price':2})\n",
    "final"
   ]
  },
  {
   "cell_type": "code",
   "execution_count": null,
   "metadata": {},
   "outputs": [],
   "source": [
    "final['Year'] = final['Date'].dt.year\n",
    "final"
   ]
  },
  {
   "cell_type": "code",
   "execution_count": null,
   "metadata": {},
   "outputs": [],
   "source": [
    "final.plot(x ='Date', y=['Oil_Price','SLV'], figsize=(14,8))\n",
    "plt.title('Oil and Silver Price')\n",
    "plt.ylabel('USD')\n",
    "plt.show()"
   ]
  },
  {
   "cell_type": "code",
   "execution_count": null,
   "metadata": {
    "scrolled": true
   },
   "outputs": [],
   "source": [
    "# we applied this function to get rid of $ signs:\n",
    "#df1.Average = df1.Average.str.replace('$','').astype(float)\n",
    "#df1.Low = df1.Low.str.replace('$','').astype(float)\n",
    "#df1.High = df1.High.str.replace('$','').astype(float)\n"
   ]
  },
  {
   "cell_type": "code",
   "execution_count": null,
   "metadata": {},
   "outputs": [],
   "source": [
    "#this is to save the OilPrice column into CSV:\n",
    "final.to_csv('final.data.project_csv',index=False)"
   ]
  },
  {
   "cell_type": "code",
   "execution_count": null,
   "metadata": {},
   "outputs": [],
   "source": []
  }
 ],
 "metadata": {
  "kernelspec": {
   "display_name": "Python 3",
   "language": "python",
   "name": "python3"
  },
  "language_info": {
   "codemirror_mode": {
    "name": "ipython",
    "version": 3
   },
   "file_extension": ".py",
   "mimetype": "text/x-python",
   "name": "python",
   "nbconvert_exporter": "python",
   "pygments_lexer": "ipython3",
   "version": "3.7.6"
  }
 },
 "nbformat": 4,
 "nbformat_minor": 4
}
